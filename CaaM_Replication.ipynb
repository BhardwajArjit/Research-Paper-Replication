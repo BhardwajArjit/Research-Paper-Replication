{
  "nbformat": 4,
  "nbformat_minor": 0,
  "metadata": {
    "colab": {
      "provenance": [],
      "gpuType": "T4",
      "authorship_tag": "ABX9TyPD65jJnRsar1GuXHLBSB9+",
      "include_colab_link": true
    },
    "kernelspec": {
      "name": "python3",
      "display_name": "Python 3"
    },
    "language_info": {
      "name": "python"
    },
    "accelerator": "GPU"
  },
  "cells": [
    {
      "cell_type": "markdown",
      "metadata": {
        "id": "view-in-github",
        "colab_type": "text"
      },
      "source": [
        "<a href=\"https://colab.research.google.com/github/BhardwajArjit/Research-Paper-Replication/blob/main/CaaM_Replication.ipynb\" target=\"_parent\"><img src=\"https://colab.research.google.com/assets/colab-badge.svg\" alt=\"Open In Colab\"/></a>"
      ]
    },
    {
      "cell_type": "markdown",
      "source": [
        "This notebook replicates the research paper titled \"Causal Attention for Unbiased Visual Recognition\" with PyTorch.\n",
        "\n",
        "The link to the paper: https://arxiv.org/abs/2108.08782\n",
        "\n",
        "**Causal Attention Module** (CaaM) generates data partition iteratively and self-annotates the confounders progressively to overcome the over-adjustment problem.\n",
        "\n",
        "The ultimate goal of CaaM is to improve causal inference by adjusting for confounders more accurately."
      ],
      "metadata": {
        "id": "2-c5GCK1P6c_"
      }
    },
    {
      "cell_type": "markdown",
      "source": [
        "##0. Get Setup"
      ],
      "metadata": {
        "id": "MZ7Pfh5wcOyD"
      }
    },
    {
      "cell_type": "code",
      "source": [
        "try:\n",
        "  import torch\n",
        "  import torchvision\n",
        "  import timm\n",
        "  print(f\"torch version: {torch.__version__}\")\n",
        "  print(f\"torchvision version: {torchvision.__version__}\")\n",
        "  print(f\"timm version: {timm.__version__}\")\n",
        "except:\n",
        "  print(f\"[INFO] Couldn't find timm... installing it.\")\n",
        "  !pip install timm\n",
        "  import timm\n",
        "  print(f\"timm {timm.__version__} installed successfully...\")"
      ],
      "metadata": {
        "colab": {
          "base_uri": "https://localhost:8080/"
        },
        "id": "axOQxU9ycMvc",
        "outputId": "fee0947b-6403-4dd7-93d3-7790dafdc7fe"
      },
      "execution_count": 17,
      "outputs": [
        {
          "output_type": "stream",
          "name": "stdout",
          "text": [
            "torch version: 2.1.0+cu118\n",
            "torchvision version: 0.16.0+cu118\n",
            "timm version: 0.9.8\n"
          ]
        }
      ]
    },
    {
      "cell_type": "code",
      "source": [
        "import matplotlib.pyplot as plt\n",
        "import torch\n",
        "import torchvision\n",
        "\n",
        "from torch import nn\n",
        "from torchvision import transforms\n",
        "\n",
        "try:\n",
        "  from torchinfo import summary\n",
        "except:\n",
        "  print(f\"[INFO] Couldn't find torchinfo... installing it.\")\n",
        "  !pip install -q torchinfo\n",
        "  print(\"torchinfo installed successfully...\")\n",
        "  from torchinfo import summary\n",
        "\n",
        "try:\n",
        "    from pytorch_utils import download_data, set_seeds, plot_loss_curves\n",
        "except ImportError:\n",
        "    # If the import fails, clone the repository\n",
        "    !git clone https://github.com/BhardwajArjit/Helper-Functions.git\n",
        "    !mv Helper-Functions/pytorch_utils.py .\n",
        "    !rm -rf Helper-Functions\n",
        "    from pytorch_utils import download_data, set_seeds, plot_loss_curves"
      ],
      "metadata": {
        "id": "HvmjqA6iesmD"
      },
      "execution_count": 18,
      "outputs": []
    },
    {
      "cell_type": "code",
      "source": [
        "# Setup device agnostic code\n",
        "device = \"cuda\" if torch.cuda.is_available() else \"cpu\"\n",
        "device"
      ],
      "metadata": {
        "colab": {
          "base_uri": "https://localhost:8080/",
          "height": 35
        },
        "id": "n-DPsIOngAFs",
        "outputId": "9ee88795-4f40-4281-9b61-9386c9363b0f"
      },
      "execution_count": 19,
      "outputs": [
        {
          "output_type": "execute_result",
          "data": {
            "text/plain": [
              "'cuda'"
            ],
            "application/vnd.google.colaboratory.intrinsic+json": {
              "type": "string"
            }
          },
          "metadata": {},
          "execution_count": 19
        }
      ]
    },
    {
      "cell_type": "code",
      "source": [],
      "metadata": {
        "id": "lzH0Uw1p7f2l"
      },
      "execution_count": 20,
      "outputs": []
    }
  ]
}