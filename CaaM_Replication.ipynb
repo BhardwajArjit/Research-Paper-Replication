{
  "nbformat": 4,
  "nbformat_minor": 0,
  "metadata": {
    "colab": {
      "provenance": [],
      "authorship_tag": "ABX9TyNf3N0adczdBmVwimZmmK/Y",
      "include_colab_link": true
    },
    "kernelspec": {
      "name": "python3",
      "display_name": "Python 3"
    },
    "language_info": {
      "name": "python"
    }
  },
  "cells": [
    {
      "cell_type": "markdown",
      "metadata": {
        "id": "view-in-github",
        "colab_type": "text"
      },
      "source": [
        "<a href=\"https://colab.research.google.com/github/BhardwajArjit/Research-Paper-Replication/blob/main/CaaM_Replication.ipynb\" target=\"_parent\"><img src=\"https://colab.research.google.com/assets/colab-badge.svg\" alt=\"Open In Colab\"/></a>"
      ]
    },
    {
      "cell_type": "markdown",
      "source": [
        "This notebook replicates the research paper titled \"Causal Attention for Unbiased Visual Recognition\" with PyTorch.\n",
        "\n",
        "The link to the paper: https://arxiv.org/abs/2108.08782"
      ],
      "metadata": {
        "id": "2-c5GCK1P6c_"
      }
    },
    {
      "cell_type": "code",
      "source": [],
      "metadata": {
        "id": "5YRIj4ylQXpI"
      },
      "execution_count": null,
      "outputs": []
    }
  ]
}